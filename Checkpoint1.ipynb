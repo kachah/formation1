{
 "cells": [
  {
   "cell_type": "code",
   "execution_count": 4,
   "id": "7529cec2",
   "metadata": {},
   "outputs": [],
   "source": [
    "def main():\n",
    "    print(\"hello word\")\n",
    "    print (\"hallo karim\")\n",
    "    \n",
    "    if __name__ == '__main__':\n",
    "        main()\n"
   ]
  },
  {
   "cell_type": "code",
   "execution_count": 17,
   "id": "762daad4",
   "metadata": {},
   "outputs": [
    {
     "name": "stdout",
     "output_type": "stream",
     "text": [
      "3\n"
     ]
    }
   ],
   "source": [
    "a, b, c = 3, 5, 7\n",
    "print(a % 7)"
   ]
  },
  {
   "cell_type": "code",
   "execution_count": 20,
   "id": "7d63245a",
   "metadata": {},
   "outputs": [
    {
     "name": "stdout",
     "output_type": "stream",
     "text": [
      "452.38896\n",
      "<class 'int'> <class 'float'> <class 'float'>\n"
     ]
    }
   ],
   "source": [
    ">>> r , pi = 12, 3.14159\n",
    ">>> s = pi * r**2\n",
    ">>> print(s)\n",
    ">>> print(type(r), type(pi), type(s))"
   ]
  },
  {
   "cell_type": "code",
   "execution_count": 21,
   "id": "54ebe0ed",
   "metadata": {},
   "outputs": [
    {
     "name": "stdout",
     "output_type": "stream",
     "text": [
      "nombre de secondes écoulées depuis minuit =  56072.38896\n"
     ]
    }
   ],
   "source": [
    ">>> h, m, S = 15, 27, 34\n",
    "\n",
    ">>> print(\"nombre de secondes écoulées depuis minuit = \", h*3600 + m*60 + s)"
   ]
  },
  {
   "cell_type": "code",
   "execution_count": 31,
   "id": "4327d04f",
   "metadata": {},
   "outputs": [
    {
     "ename": "IndentationError",
     "evalue": "expected an indented block (146615663.py, line 4)",
     "output_type": "error",
     "traceback": [
      "\u001b[1;36m  File \u001b[1;32m\"C:\\Users\\kchah\\AppData\\Local\\Temp\\ipykernel_15732\\146615663.py\"\u001b[1;36m, line \u001b[1;32m4\u001b[0m\n\u001b[1;33m    print(\"a est pair\")\u001b[0m\n\u001b[1;37m    ^\u001b[0m\n\u001b[1;31mIndentationError\u001b[0m\u001b[1;31m:\u001b[0m expected an indented block\n"
     ]
    }
   ],
   "source": [
    ">>> a = 7\n",
    "\n",
    ">>> if (a % 2 == 0):\n",
    "print(\"a est pair\")\n",
    "print(\"parce que le reste de sa division par 2 est nul\")\n",
    "\n",
    "… else:\n",
    "\n",
    "…print(\"a est impair\")\n",
    "\n",
    "…"
   ]
  },
  {
   "cell_type": "code",
   "execution_count": 32,
   "id": "492a13fc",
   "metadata": {},
   "outputs": [
    {
     "ename": "IndentationError",
     "evalue": "expected an indented block (3286038412.py, line 4)",
     "output_type": "error",
     "traceback": [
      "\u001b[1;36m  File \u001b[1;32m\"C:\\Users\\kchah\\AppData\\Local\\Temp\\ipykernel_15732\\3286038412.py\"\u001b[1;36m, line \u001b[1;32m4\u001b[0m\n\u001b[1;33m    if classe == \"mammifères\":\u001b[0m\n\u001b[1;37m    ^\u001b[0m\n\u001b[1;31mIndentationError\u001b[0m\u001b[1;31m:\u001b[0m expected an indented block\n"
     ]
    }
   ],
   "source": [
    "if embranchement == \"vertébrés\":\n",
    "\n",
    "# 1\n",
    "if classe == \"mammifères\":\n",
    "\n",
    "# 2\n",
    "if ordre == \"carnivores\":\n",
    "\n",
    "# 3\n",
    "if famille == \"félins\":\n",
    "\n",
    "# 4\n",
    "print(\"c’est peut-être un chat\")\n",
    "\n",
    "# 5\n",
    "print(\"c’est en tous cas un mammifère\")\n",
    "\n",
    "# 6\n",
    "elif classe == \"oiseaux\":\n",
    "\n",
    "# 7\n",
    "print(\"c’est peut-être un canari\")\n",
    "\n",
    "# 8\n",
    "print(\"la classification des animaux est complexe\")"
   ]
  },
  {
   "cell_type": "code",
   "execution_count": null,
   "id": "40a8e05c",
   "metadata": {},
   "outputs": [],
   "source": []
  }
 ],
 "metadata": {
  "kernelspec": {
   "display_name": "Python 3 (ipykernel)",
   "language": "python",
   "name": "python3"
  },
  "language_info": {
   "codemirror_mode": {
    "name": "ipython",
    "version": 3
   },
   "file_extension": ".py",
   "mimetype": "text/x-python",
   "name": "python",
   "nbconvert_exporter": "python",
   "pygments_lexer": "ipython3",
   "version": "3.9.13"
  }
 },
 "nbformat": 4,
 "nbformat_minor": 5
}
